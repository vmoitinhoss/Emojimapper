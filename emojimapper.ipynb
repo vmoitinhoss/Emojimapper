{
  "nbformat": 4,
  "nbformat_minor": 0,
  "metadata": {
    "colab": {
      "provenance": []
    },
    "kernelspec": {
      "name": "python3",
      "display_name": "Python 3"
    },
    "language_info": {
      "name": "python"
    }
  },
  "cells": [
    {
      "cell_type": "markdown",
      "source": [
        "#Análise somente com Emojis\n"
      ],
      "metadata": {
        "id": "4WKW3fj6WtA0"
      }
    },
    {
      "cell_type": "markdown",
      "source": [
        "Essa seção é reservada para realizar a análise de sentimentos apenas com nossa ferramenta"
      ],
      "metadata": {
        "id": "EAQHVZWSWyIA"
      }
    },
    {
      "cell_type": "code",
      "execution_count": null,
      "metadata": {
        "id": "V_eNKVUk6I2U"
      },
      "outputs": [],
      "source": [
        "import pandas as pd"
      ]
    },
    {
      "cell_type": "markdown",
      "source": [
        "### Declaração do modelo"
      ],
      "metadata": {
        "id": "F57ue6rfW7Rc"
      }
    },
    {
      "cell_type": "code",
      "source": [
        "modelo = pd.read_csv('modelo2.csv')\n",
        "emojis = set(modelo['emojis']) #conjunto de emojis do nosso modelo\n",
        "modelo = modelo.set_index('emojis').to_dict('dict')['polaridade'] #Nosso modelo"
      ],
      "metadata": {
        "id": "l8NXwPTT6The"
      },
      "execution_count": null,
      "outputs": []
    },
    {
      "cell_type": "markdown",
      "source": [
        "## Funções de limpeza de dados\n"
      ],
      "metadata": {
        "id": "TBTbSz47XP2j"
      }
    },
    {
      "cell_type": "markdown",
      "source": [
        "### Função que declara se um char está dentro do modelo"
      ],
      "metadata": {
        "id": "GZ1lRenAXHFt"
      }
    },
    {
      "cell_type": "code",
      "source": [
        "def escopoModelo(character):\n",
        "  return len(emojis.intersection(character)) > 0"
      ],
      "metadata": {
        "id": "TJ82rnQq_gSe"
      },
      "execution_count": null,
      "outputs": []
    },
    {
      "cell_type": "markdown",
      "source": [
        "### Função que limpa somente uma frase"
      ],
      "metadata": {
        "id": "eZ6ScPP3XSFo"
      }
    },
    {
      "cell_type": "code",
      "source": [
        "def limpaFrase(frase):\n",
        "  for i in frase:\n",
        "    if escopoModelo(i):\n",
        "      return True\n",
        "  return False"
      ],
      "metadata": {
        "id": "3bhdUSZpLQUX"
      },
      "execution_count": null,
      "outputs": []
    },
    {
      "cell_type": "markdown",
      "source": [
        "### Função que limpa o DataFrame inteiro"
      ],
      "metadata": {
        "id": "Tv9d1brXXagW"
      }
    },
    {
      "cell_type": "code",
      "source": [
        "def limpaFrame(data, coluna):\n",
        "  for indice, linha in data.iterrows():\n",
        "    if not limpaFrase(linha[coluna]):\n",
        "      data = data.drop(indice)\n",
        "  return data"
      ],
      "metadata": {
        "id": "d6U8aFTxSn93"
      },
      "execution_count": null,
      "outputs": []
    },
    {
      "cell_type": "markdown",
      "source": [
        "### Função para limpar uma lista"
      ],
      "metadata": {
        "id": "Ht_3sa6SXfPc"
      }
    },
    {
      "cell_type": "code",
      "source": [
        "def limpaData(data):\n",
        "  for i in data:\n",
        "    if not limpaFrase(i):\n",
        "      data.remove(i)\n",
        "  return data"
      ],
      "metadata": {
        "id": "gC1PW37vLy6i"
      },
      "execution_count": null,
      "outputs": []
    },
    {
      "cell_type": "markdown",
      "source": [
        "## Funções de Classificação"
      ],
      "metadata": {
        "id": "b54QwUZIXkQR"
      }
    },
    {
      "cell_type": "code",
      "source": [
        "def classificaFrase(frase):\n",
        "  retorno = 0\n",
        "  for i in frase:\n",
        "    if escopoModelo(i):\n",
        "      retorno += modelo[i]\n",
        "  return int(retorno)"
      ],
      "metadata": {
        "id": "KeQRpLIl6g-x"
      },
      "execution_count": null,
      "outputs": []
    },
    {
      "cell_type": "code",
      "source": [
        "def classifica(data):\n",
        "  retorno = []\n",
        "  data = limpaData(data)\n",
        "  for i in data:\n",
        "    if classificaFrase(i) > 0:\n",
        "      retorno.append(1)\n",
        "    elif classificaFrase(i) == 0:\n",
        "      retorno.append(0)\n",
        "    else:\n",
        "      retorno.append(-1)\n",
        "  return retorno"
      ],
      "metadata": {
        "id": "upNYUVqdBz96"
      },
      "execution_count": null,
      "outputs": []
    },
    {
      "cell_type": "markdown",
      "source": [
        "## Função de acurácia de um modelo\n"
      ],
      "metadata": {
        "id": "_I_e7dn6XscJ"
      }
    },
    {
      "cell_type": "code",
      "source": [
        "def acuracia(verdadeiros, preditos):\n",
        "    num_acertos = 0\n",
        "    num_total = len(verdadeiros)\n",
        "\n",
        "    for i in range(num_total):\n",
        "      if verdadeiros[i] == preditos[i]:\n",
        "        num_acertos += 1\n",
        "\n",
        "    acuracia = (num_acertos / num_total) * 100\n",
        "    return acuracia\n"
      ],
      "metadata": {
        "id": "878lWpN8O_pl"
      },
      "execution_count": null,
      "outputs": []
    },
    {
      "cell_type": "markdown",
      "source": [
        "## Usando o modelo"
      ],
      "metadata": {
        "id": "96Fwc_LmX191"
      }
    },
    {
      "cell_type": "code",
      "source": [
        "data = pd.read_csv('dados.csv')\n",
        "data = limpaFrame(data, 'Tweet')"
      ],
      "metadata": {
        "id": "gCLlA44LNHwT",
        "colab": {
          "base_uri": "https://localhost:8080/"
        },
        "outputId": "a343e796-b399-4913-8dc5-1482a018952d"
      },
      "execution_count": null,
      "outputs": [
        {
          "output_type": "stream",
          "name": "stdout",
          "text": [
            "0.0\n"
          ]
        }
      ]
    },
    {
      "cell_type": "code",
      "source": [
        "data = data.replace('positive', 1).replace('neutral', 0).replace('negative', -1)\n",
        "x = data['Tweet'].values.tolist()\n",
        "y = data['Sentiment'].values.tolist()\n",
        "classificado = classifica(x)\n",
        "print(acuracia(y, classificado))"
      ],
      "metadata": {
        "colab": {
          "base_uri": "https://localhost:8080/"
        },
        "id": "PlQdSPipbJok",
        "outputId": "2f9f3d43-1856-409b-d214-2679142ce634"
      },
      "execution_count": null,
      "outputs": [
        {
          "output_type": "stream",
          "name": "stdout",
          "text": [
            "51.75819834057685\n"
          ]
        }
      ]
    },
    {
      "cell_type": "markdown",
      "source": [
        "#Análise com Vader"
      ],
      "metadata": {
        "id": "MtQNrZmeVd-R"
      }
    },
    {
      "cell_type": "markdown",
      "source": [
        "Essa seção é reservada para realizar a análise de sentimentos por meio da ferramenta Vader.\n"
      ],
      "metadata": {
        "id": "fhg2ogDlWTS1"
      }
    },
    {
      "cell_type": "code",
      "source": [
        "!pip install vaderSentiment"
      ],
      "metadata": {
        "id": "HE7WYDQlVf1s"
      },
      "execution_count": null,
      "outputs": []
    },
    {
      "cell_type": "code",
      "source": [
        "#Importando a classe\n",
        "from vaderSentiment.vaderSentiment import SentimentIntensityAnalyzer\n",
        "\n",
        "#Instanciando\n",
        "analyser = SentimentIntensityAnalyzer()"
      ],
      "metadata": {
        "id": "aU-DeBCkVnai"
      },
      "execution_count": null,
      "outputs": []
    },
    {
      "cell_type": "code",
      "source": [
        "#Somente para limpar os dados em inglês\n",
        "emojisLimpos = []\n",
        "for i in data['Tweet']:\n",
        "  emojiSeparados = ''\n",
        "  for j in i:\n",
        "    if emojis.intersection(j):\n",
        "      emojiSeparados += j\n",
        "  emojisLimpos.append(emojiSeparados)\n",
        "\n",
        "emojisLimpos = pd.DataFrame(emojisLimpos)[0]"
      ],
      "metadata": {
        "id": "_sf7SF7eckh-"
      },
      "execution_count": null,
      "outputs": []
    },
    {
      "cell_type": "code",
      "source": [
        "def analise(texto):\n",
        " df_analisado = analyser.polarity_scores(texto)['compound'] \n",
        " return df_analisado\n",
        "\n",
        "#Aplicando a função e guardando na coluna new_review\n",
        "vaderAnalise = emojisLimpos.apply(analise)"
      ],
      "metadata": {
        "id": "pYLmQTyaVuhE"
      },
      "execution_count": null,
      "outputs": []
    },
    {
      "cell_type": "code",
      "source": [
        "def polariza(score):\n",
        "  if score >= 0.05:\n",
        "    return 1\n",
        "  elif score <= -0.05:\n",
        "    return -1\n",
        "  return 0\n",
        "  \n",
        "#Aplicando\n",
        "resultadoVader = vaderAnalise.apply(polariza).values.tolist()"
      ],
      "metadata": {
        "id": "onO2c398WJFQ"
      },
      "execution_count": null,
      "outputs": []
    },
    {
      "cell_type": "code",
      "source": [
        "print(acuracia(y, resultadoVader))"
      ],
      "metadata": {
        "colab": {
          "base_uri": "https://localhost:8080/"
        },
        "id": "3WlGTEQ9WkRl",
        "outputId": "46ded6de-9d65-41fe-e36f-9fa6984900b7"
      },
      "execution_count": null,
      "outputs": [
        {
          "output_type": "stream",
          "name": "stdout",
          "text": [
            "41.56459897273805\n"
          ]
        }
      ]
    }
  ]
}